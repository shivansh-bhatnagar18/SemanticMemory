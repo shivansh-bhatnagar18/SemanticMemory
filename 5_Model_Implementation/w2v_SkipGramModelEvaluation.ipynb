{
  "nbformat": 4,
  "nbformat_minor": 0,
  "metadata": {
    "colab": {
      "provenance": []
    },
    "kernelspec": {
      "name": "python3",
      "display_name": "Python 3"
    },
    "language_info": {
      "name": "python"
    }
  },
  "cells": [
    {
      "cell_type": "markdown",
      "source": [
        "## Creating a Skip Gram Model\n"
      ],
      "metadata": {
        "id": "DjB7BuwmaVls"
      }
    },
    {
      "cell_type": "code",
      "source": [
        "from gensim.models import Word2Vec\n",
        "from nltk.tokenize import word_tokenize\n",
        "import nltk\n",
        "nltk.download('punkt')"
      ],
      "metadata": {
        "colab": {
          "base_uri": "https://localhost:8080/"
        },
        "id": "cTRZkUzsadn5",
        "outputId": "b2c6a158-68fa-4b66-ee6f-576deef9cf1d"
      },
      "execution_count": 32,
      "outputs": [
        {
          "output_type": "stream",
          "name": "stderr",
          "text": [
            "[nltk_data] Downloading package punkt to /root/nltk_data...\n",
            "[nltk_data]   Package punkt is already up-to-date!\n"
          ]
        },
        {
          "output_type": "execute_result",
          "data": {
            "text/plain": [
              "True"
            ]
          },
          "metadata": {},
          "execution_count": 32
        }
      ]
    },
    {
      "cell_type": "code",
      "source": [
        "#Loading the dataset\n",
        "s = \" \"\n",
        "lines = []\n",
        "with open('shakespeare.txt', 'r') as f:\n",
        "    for l in f:\n",
        "        l = l.replace(\"\\n\",\"\")\n",
        "        lines.append(l)\n",
        "    print(lines[:10])\n",
        "    lines = s.join(lines)\n",
        "print(lines)"
      ],
      "metadata": {
        "colab": {
          "base_uri": "https://localhost:8080/"
        },
        "id": "uacMFCV6ag0v",
        "outputId": "f28f4c37-5d39-42cf-df1a-06aab200e411"
      },
      "execution_count": 33,
      "outputs": [
        {
          "output_type": "stream",
          "name": "stderr",
          "text": [
            "IOPub data rate exceeded.\n",
            "The notebook server will temporarily stop sending output\n",
            "to the client in order to avoid crashing it.\n",
            "To change this limit, set the config variable\n",
            "`--NotebookApp.iopub_data_rate_limit`.\n",
            "\n",
            "Current values:\n",
            "NotebookApp.iopub_data_rate_limit=1000000.0 (bytes/sec)\n",
            "NotebookApp.rate_limit_window=3.0 (secs)\n",
            "\n"
          ]
        }
      ]
    },
    {
      "cell_type": "code",
      "source": [
        "tokenized_text = word_tokenize(lines.lower())\n",
        "vector_size = 100\n",
        "window_size = 5\n",
        "model = Word2Vec(sentences=[tokenized_text], vector_size=vector_size, window=window_size, sg=1, min_count=1, workers=4)\n",
        "model.save(\"skipgram_model.bin\")"
      ],
      "metadata": {
        "id": "h-00SxnPbBzY"
      },
      "execution_count": 34,
      "outputs": []
    },
    {
      "cell_type": "markdown",
      "source": [
        "## Testing the Acccuracy of this Model"
      ],
      "metadata": {
        "id": "A3367n6ddYfD"
      }
    },
    {
      "cell_type": "code",
      "source": [
        "import gensim\n",
        "from gensim.models import Word2Vec\n",
        "from nltk.data import find\n",
        "import numpy as np\n",
        "from sklearn.metrics.pairwise import cosine_similarity\n",
        "from scipy.stats import spearmanr\n",
        "from sklearn.manifold import TSNE\n",
        "import matplotlib.pyplot as plt\n",
        "import pandas as pd"
      ],
      "metadata": {
        "id": "eemVQKhudX0I"
      },
      "execution_count": 26,
      "outputs": []
    },
    {
      "cell_type": "code",
      "source": [
        "wordsim_path = 'combined.csv'\n",
        "word_sim_data = pd.read_csv(wordsim_path)"
      ],
      "metadata": {
        "id": "dBnhLIQLdkJ1"
      },
      "execution_count": 27,
      "outputs": []
    },
    {
      "cell_type": "code",
      "source": [
        "def cosine_similarity_word_vectors(word1, word2):\n",
        "    try:\n",
        "        return cosine_similarity([model.wv[word1]], [model.wv[word2]])[0][0]\n",
        "    except KeyError:\n",
        "        print(f\"Word '{word1}' or '{word2}' not present in the vocabulary.\")\n",
        "        return 0.0"
      ],
      "metadata": {
        "id": "pLz4XhfGgCX4"
      },
      "execution_count": 35,
      "outputs": []
    },
    {
      "cell_type": "code",
      "source": [
        "predicted_similarities = [cosine_similarity_word_vectors(w1, w2) for w1, w2 in zip(word_sim_data['Word 1'], word_sim_data['Word 2'])]\n",
        "human_similarities = word_sim_data['Human (mean)'].astype(float)"
      ],
      "metadata": {
        "colab": {
          "base_uri": "https://localhost:8080/"
        },
        "id": "S_d9UxsygC_g",
        "outputId": "be74315a-b6cd-44ef-f76a-d39ef0d5bc22"
      },
      "execution_count": 38,
      "outputs": [
        {
          "output_type": "stream",
          "name": "stdout",
          "text": [
            "Word 'computer' or 'keyboard' not present in the vocabulary.\n",
            "Word 'computer' or 'internet' not present in the vocabulary.\n",
            "Word 'plane' or 'car' not present in the vocabulary.\n",
            "Word 'telephone' or 'communication' not present in the vocabulary.\n",
            "Word 'television' or 'radio' not present in the vocabulary.\n",
            "Word 'media' or 'radio' not present in the vocabulary.\n",
            "Word 'cucumber' or 'potato' not present in the vocabulary.\n",
            "Word 'professor' or 'doctor' not present in the vocabulary.\n",
            "Word 'student' or 'professor' not present in the vocabulary.\n",
            "Word 'stock' or 'phone' not present in the vocabulary.\n",
            "Word 'stock' or 'CD' not present in the vocabulary.\n",
            "Word 'stock' or 'jaguar' not present in the vocabulary.\n",
            "Word 'professor' or 'cucumber' not present in the vocabulary.\n",
            "Word 'bishop' or 'rabbi' not present in the vocabulary.\n",
            "Word 'Jerusalem' or 'Israel' not present in the vocabulary.\n",
            "Word 'Jerusalem' or 'Palestinian' not present in the vocabulary.\n",
            "Word 'fuck' or 'sex' not present in the vocabulary.\n",
            "Word 'Maradona' or 'football' not present in the vocabulary.\n",
            "Word 'football' or 'soccer' not present in the vocabulary.\n",
            "Word 'football' or 'basketball' not present in the vocabulary.\n",
            "Word 'tennis' or 'racket' not present in the vocabulary.\n",
            "Word 'Arafat' or 'peace' not present in the vocabulary.\n",
            "Word 'Arafat' or 'terror' not present in the vocabulary.\n",
            "Word 'Arafat' or 'Jackson' not present in the vocabulary.\n",
            "Word 'movie' or 'star' not present in the vocabulary.\n",
            "Word 'movie' or 'popcorn' not present in the vocabulary.\n",
            "Word 'movie' or 'critic' not present in the vocabulary.\n",
            "Word 'movie' or 'theater' not present in the vocabulary.\n",
            "Word 'physics' or 'proton' not present in the vocabulary.\n",
            "Word 'physics' or 'chemistry' not present in the vocabulary.\n",
            "Word 'space' or 'chemistry' not present in the vocabulary.\n",
            "Word 'alcohol' or 'chemistry' not present in the vocabulary.\n",
            "Word 'vodka' or 'gin' not present in the vocabulary.\n",
            "Word 'vodka' or 'brandy' not present in the vocabulary.\n",
            "Word 'car' or 'automobile' not present in the vocabulary.\n",
            "Word 'asylum' or 'madhouse' not present in the vocabulary.\n",
            "Word 'midday' or 'noon' not present in the vocabulary.\n",
            "Word 'furnace' or 'stove' not present in the vocabulary.\n",
            "Word 'bird' or 'crane' not present in the vocabulary.\n",
            "Word 'tool' or 'implement' not present in the vocabulary.\n",
            "Word 'crane' or 'implement' not present in the vocabulary.\n",
            "Word 'cemetery' or 'woodland' not present in the vocabulary.\n",
            "Word 'food' or 'rooster' not present in the vocabulary.\n",
            "Word 'forest' or 'graveyard' not present in the vocabulary.\n",
            "Word 'chord' or 'smile' not present in the vocabulary.\n",
            "Word 'rooster' or 'voyage' not present in the vocabulary.\n",
            "Word 'money' or 'currency' not present in the vocabulary.\n",
            "Word 'money' or 'deposit' not present in the vocabulary.\n",
            "Word 'money' or 'withdrawal' not present in the vocabulary.\n",
            "Word 'money' or 'laundering' not present in the vocabulary.\n",
            "Word 'tiger' or 'jaguar' not present in the vocabulary.\n",
            "Word 'tiger' or 'feline' not present in the vocabulary.\n",
            "Word 'tiger' or 'carnivore' not present in the vocabulary.\n",
            "Word 'tiger' or 'mammal' not present in the vocabulary.\n",
            "Word 'tiger' or 'organism' not present in the vocabulary.\n",
            "Word 'tiger' or 'fauna' not present in the vocabulary.\n",
            "Word 'tiger' or 'zoo' not present in the vocabulary.\n",
            "Word 'psychology' or 'psychiatry' not present in the vocabulary.\n",
            "Word 'psychology' or 'anxiety' not present in the vocabulary.\n",
            "Word 'psychology' or 'fear' not present in the vocabulary.\n",
            "Word 'psychology' or 'depression' not present in the vocabulary.\n",
            "Word 'psychology' or 'clinic' not present in the vocabulary.\n",
            "Word 'psychology' or 'doctor' not present in the vocabulary.\n",
            "Word 'psychology' or 'Freud' not present in the vocabulary.\n",
            "Word 'psychology' or 'mind' not present in the vocabulary.\n",
            "Word 'psychology' or 'health' not present in the vocabulary.\n",
            "Word 'psychology' or 'science' not present in the vocabulary.\n",
            "Word 'psychology' or 'discipline' not present in the vocabulary.\n",
            "Word 'psychology' or 'cognition' not present in the vocabulary.\n",
            "Word 'planet' or 'galaxy' not present in the vocabulary.\n",
            "Word 'precedent' or 'group' not present in the vocabulary.\n",
            "Word 'precedent' or 'antecedent' not present in the vocabulary.\n",
            "Word 'cup' or 'coffee' not present in the vocabulary.\n",
            "Word 'cup' or 'tableware' not present in the vocabulary.\n",
            "Word 'cup' or 'artifact' not present in the vocabulary.\n",
            "Word 'cup' or 'entity' not present in the vocabulary.\n",
            "Word 'jaguar' or 'cat' not present in the vocabulary.\n",
            "Word 'jaguar' or 'car' not present in the vocabulary.\n",
            "Word 'energy' or 'secretary' not present in the vocabulary.\n",
            "Word 'energy' or 'laboratory' not present in the vocabulary.\n",
            "Word 'computer' or 'laboratory' not present in the vocabulary.\n",
            "Word 'FBI' or 'fingerprint' not present in the vocabulary.\n",
            "Word 'FBI' or 'investigation' not present in the vocabulary.\n",
            "Word 'investigation' or 'effort' not present in the vocabulary.\n",
            "Word 'Mars' or 'water' not present in the vocabulary.\n",
            "Word 'Mars' or 'scientist' not present in the vocabulary.\n",
            "Word 'canyon' or 'landscape' not present in the vocabulary.\n",
            "Word 'image' or 'surface' not present in the vocabulary.\n",
            "Word 'water' or 'seepage' not present in the vocabulary.\n",
            "Word 'sign' or 'recess' not present in the vocabulary.\n",
            "Word 'Wednesday' or 'news' not present in the vocabulary.\n",
            "Word 'mile' or 'kilometer' not present in the vocabulary.\n",
            "Word 'computer' or 'news' not present in the vocabulary.\n",
            "Word 'territory' or 'surface' not present in the vocabulary.\n",
            "Word 'atmosphere' or 'landscape' not present in the vocabulary.\n",
            "Word 'Japanese' or 'American' not present in the vocabulary.\n",
            "Word 'theater' or 'history' not present in the vocabulary.\n",
            "Word 'volunteer' or 'motto' not present in the vocabulary.\n",
            "Word 'prejudice' or 'recognition' not present in the vocabulary.\n",
            "Word 'decoration' or 'valor' not present in the vocabulary.\n",
            "Word 'delay' or 'racism' not present in the vocabulary.\n",
            "Word 'peace' or 'plan' not present in the vocabulary.\n",
            "Word 'government' or 'crisis' not present in the vocabulary.\n",
            "Word 'deployment' or 'departure' not present in the vocabulary.\n",
            "Word 'deployment' or 'withdrawal' not present in the vocabulary.\n",
            "Word 'energy' or 'crisis' not present in the vocabulary.\n",
            "Word 'announcement' or 'news' not present in the vocabulary.\n",
            "Word 'announcement' or 'effort' not present in the vocabulary.\n",
            "Word 'victim' or 'emergency' not present in the vocabulary.\n",
            "Word 'treatment' or 'recovery' not present in the vocabulary.\n",
            "Word 'journal' or 'association' not present in the vocabulary.\n",
            "Word 'doctor' or 'personnel' not present in the vocabulary.\n",
            "Word 'doctor' or 'liability' not present in the vocabulary.\n",
            "Word 'liability' or 'insurance' not present in the vocabulary.\n",
            "Word 'school' or 'center' not present in the vocabulary.\n",
            "Word 'reason' or 'hypertension' not present in the vocabulary.\n",
            "Word 'reason' or 'criterion' not present in the vocabulary.\n",
            "Word 'hundred' or 'percent' not present in the vocabulary.\n",
            "Word 'Harvard' or 'Yale' not present in the vocabulary.\n",
            "Word 'hospital' or 'infrastructure' not present in the vocabulary.\n",
            "Word 'death' or 'inmate' not present in the vocabulary.\n",
            "Word 'word' or 'similarity' not present in the vocabulary.\n",
            "Word 'board' or 'recommendation' not present in the vocabulary.\n",
            "Word 'OPEC' or 'country' not present in the vocabulary.\n",
            "Word 'peace' or 'atmosphere' not present in the vocabulary.\n",
            "Word 'peace' or 'insurance' not present in the vocabulary.\n",
            "Word 'territory' or 'kilometer' not present in the vocabulary.\n",
            "Word 'competition' or 'price' not present in the vocabulary.\n",
            "Word 'consumer' or 'confidence' not present in the vocabulary.\n",
            "Word 'consumer' or 'energy' not present in the vocabulary.\n",
            "Word 'problem' or 'airport' not present in the vocabulary.\n",
            "Word 'hotel' or 'reservation' not present in the vocabulary.\n",
            "Word 'grocery' or 'money' not present in the vocabulary.\n",
            "Word 'registration' or 'arrangement' not present in the vocabulary.\n",
            "Word 'arrangement' or 'accommodation' not present in the vocabulary.\n",
            "Word 'month' or 'hotel' not present in the vocabulary.\n",
            "Word 'arrival' or 'hotel' not present in the vocabulary.\n",
            "Word 'situation' or 'conclusion' not present in the vocabulary.\n",
            "Word 'situation' or 'isolation' not present in the vocabulary.\n",
            "Word 'impartiality' or 'interest' not present in the vocabulary.\n",
            "Word 'listing' or 'proximity' not present in the vocabulary.\n",
            "Word 'listing' or 'category' not present in the vocabulary.\n",
            "Word 'cell' or 'phone' not present in the vocabulary.\n",
            "Word 'production' or 'hike' not present in the vocabulary.\n",
            "Word 'benchmark' or 'index' not present in the vocabulary.\n",
            "Word 'dividend' or 'payment' not present in the vocabulary.\n",
            "Word 'dividend' or 'calculation' not present in the vocabulary.\n",
            "Word 'calculation' or 'computation' not present in the vocabulary.\n",
            "Word 'currency' or 'market' not present in the vocabulary.\n",
            "Word 'OPEC' or 'oil' not present in the vocabulary.\n",
            "Word 'announcement' or 'production' not present in the vocabulary.\n",
            "Word 'announcement' or 'warning' not present in the vocabulary.\n",
            "Word 'dollar' or 'yen' not present in the vocabulary.\n",
            "Word 'computer' or 'software' not present in the vocabulary.\n",
            "Word 'network' or 'hardware' not present in the vocabulary.\n",
            "Word 'phone' or 'equipment' not present in the vocabulary.\n",
            "Word 'equipment' or 'maker' not present in the vocabulary.\n",
            "Word 'investor' or 'earning' not present in the vocabulary.\n",
            "Word 'baseball' or 'season' not present in the vocabulary.\n",
            "Word 'marathon' or 'sprint' not present in the vocabulary.\n",
            "Word 'game' or 'series' not present in the vocabulary.\n",
            "Word 'seven' or 'series' not present in the vocabulary.\n",
            "Word 'seafood' or 'sea' not present in the vocabulary.\n",
            "Word 'seafood' or 'food' not present in the vocabulary.\n",
            "Word 'seafood' or 'lobster' not present in the vocabulary.\n",
            "Word 'lobster' or 'food' not present in the vocabulary.\n",
            "Word 'lobster' or 'wine' not present in the vocabulary.\n",
            "Word 'video' or 'archive' not present in the vocabulary.\n",
            "Word 'boxing' or 'round' not present in the vocabulary.\n",
            "Word 'championship' or 'tournament' not present in the vocabulary.\n",
            "Word 'fighting' or 'defeating' not present in the vocabulary.\n",
            "Word 'line' or 'insurance' not present in the vocabulary.\n",
            "Word 'nature' or 'environment' not present in the vocabulary.\n",
            "Word 'environment' or 'ecology' not present in the vocabulary.\n",
            "Word 'soap' or 'opera' not present in the vocabulary.\n",
            "Word 'opera' or 'performance' not present in the vocabulary.\n",
            "Word 'focus' or 'life' not present in the vocabulary.\n",
            "Word 'production' or 'crew' not present in the vocabulary.\n",
            "Word 'television' or 'film' not present in the vocabulary.\n",
            "Word 'viewer' or 'serial' not present in the vocabulary.\n",
            "Word 'population' or 'development' not present in the vocabulary.\n",
            "Word 'Mexico' or 'Brazil' not present in the vocabulary.\n",
            "Word 'change' or 'attitude' not present in the vocabulary.\n",
            "Word 'family' or 'planning' not present in the vocabulary.\n",
            "Word 'opera' or 'industry' not present in the vocabulary.\n",
            "Word 'practice' or 'institution' not present in the vocabulary.\n",
            "Word 'ministry' or 'culture' not present in the vocabulary.\n",
            "Word 'problem' or 'challenge' not present in the vocabulary.\n",
            "Word 'size' or 'prominence' not present in the vocabulary.\n",
            "Word 'development' or 'issue' not present in the vocabulary.\n",
            "Word 'aluminum' or 'metal' not present in the vocabulary.\n",
            "Word 'chance' or 'credibility' not present in the vocabulary.\n",
            "Word 'exhibit' or 'memorabilia' not present in the vocabulary.\n",
            "Word 'concert' or 'virtuoso' not present in the vocabulary.\n",
            "Word 'rock' or 'jazz' not present in the vocabulary.\n",
            "Word 'museum' or 'theater' not present in the vocabulary.\n",
            "Word 'observation' or 'architecture' not present in the vocabulary.\n",
            "Word 'admission' or 'ticket' not present in the vocabulary.\n",
            "Word 'shower' or 'thunderstorm' not present in the vocabulary.\n",
            "Word 'disaster' or 'area' not present in the vocabulary.\n",
            "Word 'architecture' or 'century' not present in the vocabulary.\n"
          ]
        }
      ]
    },
    {
      "cell_type": "code",
      "source": [
        "pearson_corr, _ = spearmanr(predicted_similarities, human_similarities)\n",
        "print(f\"Pearson Correlation: {pearson_corr:.4f}\")"
      ],
      "metadata": {
        "colab": {
          "base_uri": "https://localhost:8080/"
        },
        "id": "Ed2Ly59Mk33C",
        "outputId": "4541f255-c88b-4011-ee8f-9f8585dc5560"
      },
      "execution_count": 39,
      "outputs": [
        {
          "output_type": "stream",
          "name": "stdout",
          "text": [
            "Pearson Correlation: 0.0368\n"
          ]
        }
      ]
    },
    {
      "cell_type": "code",
      "source": [
        "spearman_corr, _ = spearmanr(predicted_similarities, human_similarities)\n",
        "print(f\"Spearman Rank Correlation: {spearman_corr:.4f}\")"
      ],
      "metadata": {
        "colab": {
          "base_uri": "https://localhost:8080/"
        },
        "id": "dl-pMg33k6np",
        "outputId": "610d0be4-dd14-43a1-89cf-53b0916f2777"
      },
      "execution_count": 40,
      "outputs": [
        {
          "output_type": "stream",
          "name": "stdout",
          "text": [
            "Spearman Rank Correlation: 0.0368\n"
          ]
        }
      ]
    },
    {
      "cell_type": "code",
      "source": [
        "def evaluate_analogy(word1, word2, word3, expected_word):\n",
        "    result = model.wv.most_similar(positive=[word2, word3], negative=[word1], topn=1)\n",
        "    predicted_word = result[0][0]\n",
        "    print(f\"Analogy: {word1} is to {word2} as {word3} is to {predicted_word}. Expected: {expected_word}\")"
      ],
      "metadata": {
        "id": "DCe894XPk94m"
      },
      "execution_count": 41,
      "outputs": []
    },
    {
      "cell_type": "code",
      "source": [
        "evaluate_analogy('man', 'woman', 'king', 'queen')"
      ],
      "metadata": {
        "colab": {
          "base_uri": "https://localhost:8080/"
        },
        "id": "7vcjhFGflAbR",
        "outputId": "6532b9db-26aa-4503-99ac-f6f93a5c3a6a"
      },
      "execution_count": 42,
      "outputs": [
        {
          "output_type": "stream",
          "name": "stdout",
          "text": [
            "Analogy: man is to woman as king is to men. Expected: queen\n"
          ]
        }
      ]
    },
    {
      "cell_type": "code",
      "source": [
        "def visualize_word_embeddings(words):\n",
        "    word_vectors = [model.wv[word] for word in words]\n",
        "    word_vectors_array = np.array(word_vectors)\n",
        "\n",
        "    tsne_model = TSNE(n_components=2, perplexity=5, random_state=42)\n",
        "    embeddings_2d = tsne_model.fit_transform(word_vectors_array)\n",
        "\n",
        "    plt.figure(figsize=(8, 8))\n",
        "    for i, word in enumerate(words):\n",
        "        x, y = embeddings_2d[i, :]\n",
        "        plt.scatter(x, y)\n",
        "        plt.annotate(word, (x, y), alpha=0.5)\n",
        "\n",
        "    plt.show()"
      ],
      "metadata": {
        "id": "31clnqbHlD8T"
      },
      "execution_count": 47,
      "outputs": []
    },
    {
      "cell_type": "code",
      "source": [
        "visualize_word_embeddings(['king', 'queen', 'man', 'woman', 'apple', 'orange'])"
      ],
      "metadata": {
        "colab": {
          "base_uri": "https://localhost:8080/",
          "height": 676
        },
        "id": "zGs_Za5tlHrr",
        "outputId": "5ab34933-13d3-452f-e16b-9d8fc4f457ee"
      },
      "execution_count": 48,
      "outputs": [
        {
          "output_type": "display_data",
          "data": {
            "text/plain": [
              "<Figure size 800x800 with 1 Axes>"
            ],
            "image/png": "[encoded data removed]"
          },
          "metadata": {}
        }
      ]
    }
  ]
}